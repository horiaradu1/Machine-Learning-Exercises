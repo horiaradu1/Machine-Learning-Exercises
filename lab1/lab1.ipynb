{
 "cells": [
  {
   "cell_type": "markdown",
   "metadata": {},
   "source": [
    "# Lab 1: Python exercises for COMP24111\n",
    "\n",
    "# 1. Instruction\n",
    "\n",
    "There are a total of 12 exercises. You are asked to complete all of them. Print out the final results, and comment if needed. Make sure your results can be reproduced by your TA using Restart & Run All."
   ]
  },
  {
   "cell_type": "markdown",
   "metadata": {},
   "source": [
    "## 2. Exercises\n",
    "\n",
    "Start with our provided supporting tutorial \"Instruction on Mathematical Programming in Python\", if needed, also the file \"Maths Knowledge Overview - COMP24112\". After you are familiar with the basics, you can proceed to the exercises.\n"
   ]
  },
  {
   "cell_type": "markdown",
   "metadata": {},
   "source": [
    "### Exercise 1\n",
    "\n",
    "Input a 4 by 4 magic square matrix \n",
    "$$\\textbf{A}=\n",
    "\\left[\n",
    "\\begin{array}{cccc}\n",
    "        16   &   3 &  2 & 13 \\\\\n",
    "        5    &  10 & 11 &  8 \\\\\n",
    "        9    &   6 &  7 & 12 \\\\\n",
    "        4    &  15 & 14 &  1 \\\\\n",
    "\\end{array}\n",
    "\\right]. \n",
    "$$  \n",
    "\n",
    "Generate a 4 by 4 matrix $\\textbf{B}$ with random integer entries. Set $\\textbf{C}$ to be a 4 by 4 matrix with 1's on the diagonal and 0's elsewhere. Check to see that, $\\textbf{A}$, $\\textbf{B}$ and $\\textbf{C}$ are all present. Compute the sum of the third column of $\\textbf{A}$."
   ]
  },
  {
   "cell_type": "code",
   "execution_count": 1,
   "metadata": {},
   "outputs": [
    {
     "name": "stdout",
     "output_type": "stream",
     "text": [
      "A = \n",
      "[[16  3  2 13]\n",
      " [ 5 10 11  8]\n",
      " [ 9  6  7 12]\n",
      " [ 4 15 14  1]]\n",
      "\u001b[1mB = \n",
      "[[98  6 11 84]\n",
      " [64 49 80 20]\n",
      " [28 25 87 11]\n",
      " [77 61 33  8]]\u001b[0m\n",
      "C = \n",
      "[[1. 0. 0. 0.]\n",
      " [0. 1. 0. 0.]\n",
      " [0. 0. 1. 0.]\n",
      " [0. 0. 0. 1.]]\n",
      "\n",
      "\n",
      "Third column of A = [ 2 11  7 14]\n",
      "Sum of the third column of A = 34\n"
     ]
    }
   ],
   "source": [
    "import numpy as np\n",
    "import random\n",
    "\n",
    "A = np.array([[16, 3, 2, 13],\n",
    "              [5, 10, 11, 8],\n",
    "              [9, 6, 7, 12],\n",
    "              [4, 15, 14, 1],\n",
    "             ])\n",
    "\n",
    "# Question is very vague, not sure about the range of the random numbers\n",
    "B = np.random.randint(0, 100, size=[4, 4])\n",
    "\n",
    "C = np.eye(4)\n",
    "\n",
    "print(\"A = \\n\" + str(A))\n",
    "print(\"\\033[1mB = \\n\" + str(B) + \"\\033[0m\")\n",
    "print(\"C = \\n\" + str(C))\n",
    "print(\"\\n\")\n",
    "\n",
    "# Question is very vague, not sure about what sum to compute\n",
    "sum_col = np.sum(A[:, 2])\n",
    "print(\"Third column of A = \" + str(A[:, 2]))\n",
    "print(\"Sum of the third column of A = \" + str(sum_col))\n",
    "\n"
   ]
  },
  {
   "cell_type": "markdown",
   "metadata": {},
   "source": [
    "# Exercise 2\n",
    "\n",
    "Generate a 4 by 2 matrix consisting of the odd-numbered columns of $\\textbf{B}$  using the colon operator."
   ]
  },
  {
   "cell_type": "code",
   "execution_count": 2,
   "metadata": {},
   "outputs": [
    {
     "name": "stdout",
     "output_type": "stream",
     "text": [
      "The odd columns of B are = \n",
      "[[98 11]\n",
      " [64 80]\n",
      " [28 87]\n",
      " [77 33]]\n"
     ]
    }
   ],
   "source": [
    "odd_B = B[:, 0::2]\n",
    "# Odd number being the first and third columns (0 and 2)\n",
    "print(\"The odd columns of B are = \\n\" + str(odd_B))"
   ]
  },
  {
   "cell_type": "markdown",
   "metadata": {},
   "source": [
    "### Exercise 3\n",
    "\n",
    "Generate a 4 by 2 matrix containing two different columns that are randomly selected from the columns of $\\textbf{B}$. Generate a 3 by 4 matrix containing three different rows that are randomly selected from the rows of $\\textbf{B}$. "
   ]
  },
  {
   "cell_type": "code",
   "execution_count": 3,
   "metadata": {},
   "outputs": [
    {
     "name": "stdout",
     "output_type": "stream",
     "text": [
      "The random columns selected from B are = [3, 2]\n",
      "They are = \n",
      "[[84 11]\n",
      " [20 80]\n",
      " [11 87]\n",
      " [ 8 33]]\n",
      "The random rows selected from B are = [3, 1, 2]\n",
      "They are = \n",
      "[[77 61 33  8]\n",
      " [64 49 80 20]\n",
      " [28 25 87 11]]\n"
     ]
    }
   ],
   "source": [
    "rand_cols = random.sample([0,1,2,3], 2)\n",
    "rand_B = B[:, rand_cols]\n",
    "print(\"The random columns selected from B are = \" + str(rand_cols))\n",
    "print(\"They are = \\n\" + str(rand_B))\n",
    "\n",
    "rand_rows = random.sample([0,1,2,3], 3)\n",
    "rand_B = B[rand_rows, :]\n",
    "print(\"The random rows selected from B are = \" + str(rand_rows))\n",
    "print(\"They are = \\n\" + str(rand_B))"
   ]
  },
  {
   "cell_type": "markdown",
   "metadata": {},
   "source": [
    "### Exercise 4\n",
    "\n",
    "The matrix $\\textbf{A}$ is a magic square, in which the sum of each row, each column, and each diagonal is the same. First check whether $\\textbf{A}$ satisfies this  magic square condition, then sort the 2nd row of $\\textbf{A}$ by using appropriate commands."
   ]
  },
  {
   "cell_type": "code",
   "execution_count": 4,
   "metadata": {},
   "outputs": [
    {
     "name": "stdout",
     "output_type": "stream",
     "text": [
      "Sums of all the columns over rows are = [34 34 34 34]\n",
      "Sums of all the rows over columns are = [34 34 34 34]\n",
      "Diagonal of A is = [16 10  7  1] with the sum being = 34\n",
      "Opposite diagonal of A is = [13 11  6  4] with the sum being = 34\n",
      "\n",
      "All the sums of the array are (4 columns, 4 rows, diagonal and inverse diagonal): [34 34 34 34 34 34 34 34 34 34]\n",
      "\n",
      "True, the matrix is a magic square\n",
      "\n",
      "Sorted 2nd row of A is = [ 5  8 10 11]\n"
     ]
    }
   ],
   "source": [
    "sum_cols = np.sum(A, axis=0)\n",
    "sum_rows = np.sum(A, axis=1)\n",
    "\n",
    "sum_diag = np.trace(A)\n",
    "opposite_diag_A = np.diag(np.fliplr(A))\n",
    "sum_diag_inv = np.sum(opposite_diag_A)\n",
    "\n",
    "print(\"Sums of all the columns over rows are = \" + str(sum_cols))\n",
    "print(\"Sums of all the rows over columns are = \" + str(sum_rows))\n",
    "\n",
    "print(\"Diagonal of A is = \" + str(np.diag(A)) + \" with the sum being = \" + str(sum_diag))\n",
    "print(\"Opposite diagonal of A is = \" + str(opposite_diag_A) + \" with the sum being = \" + str(sum_diag_inv))\n",
    "\n",
    "checker = np.concatenate([sum_cols, sum_rows, np.array([sum_diag]), np.array([sum_diag_inv])])\n",
    "print(\"\\nAll the sums of the array are (4 columns, 4 rows, diagonal and inverse diagonal): \" + str(checker))\n",
    "\n",
    "temp = np.unique(checker)\n",
    "print()\n",
    "\n",
    "if len(temp) == 1:\n",
    "    print(str(len(temp) == 1) + \", the matrix is a magic square\")\n",
    "else:\n",
    "    print(str(len(temp) == 1) + \", the matrix is NOT a magic square\")\n",
    "\n",
    "# I am not quite sure that is meant by \"then sort the 2nd row of 𝐀 by using appropriate commands\"\n",
    "print(\"\\nSorted 2nd row of A is = \" + str(np.sort(A[1, :])))"
   ]
  },
  {
   "cell_type": "markdown",
   "metadata": {},
   "source": [
    "### Exercise 5\n",
    "\n",
    "Set $\\textbf{B}$ as an identity matrix, multiplication of $\\textbf{A}$ by $\\textbf{B}$ should yield $\\textbf{A}$. Check this. What does component by component multipilication give? Check this. "
   ]
  },
  {
   "cell_type": "code",
   "execution_count": 5,
   "metadata": {},
   "outputs": [
    {
     "name": "stdout",
     "output_type": "stream",
     "text": [
      "B is now = \n",
      "[[1. 0. 0. 0.]\n",
      " [0. 1. 0. 0.]\n",
      " [0. 0. 1. 0.]\n",
      " [0. 0. 0. 1.]]\n",
      "A is = \n",
      "[[16  3  2 13]\n",
      " [ 5 10 11  8]\n",
      " [ 9  6  7 12]\n",
      " [ 4 15 14  1]]\n",
      "\n",
      "Matrix Multiplication of A by B is = \n",
      "[[16.  3.  2. 13.]\n",
      " [ 5. 10. 11.  8.]\n",
      " [ 9.  6.  7. 12.]\n",
      " [ 4. 15. 14.  1.]]\n",
      "Which still yields A\n",
      "[[ True  True  True  True]\n",
      " [ True  True  True  True]\n",
      " [ True  True  True  True]\n",
      " [ True  True  True  True]]\n",
      "\n",
      "Component by Component  Multiplication of A by B is = \n",
      "[[16.  0.  0.  0.]\n",
      " [ 0. 10.  0.  0.]\n",
      " [ 0.  0.  7.  0.]\n",
      " [ 0.  0.  0.  1.]]\n",
      "[[ True False False False]\n",
      " [False  True False False]\n",
      " [False False  True False]\n",
      " [False False False  True]]\n"
     ]
    }
   ],
   "source": [
    "B = np.eye(4)\n",
    "print(\"B is now = \\n\" + str(B))\n",
    "\n",
    "print(\"A is = \\n\" + str(A))\n",
    "\n",
    "print(\"\\nMatrix Multiplication of A by B is = \\n\" + str(np.matmul(A,B)) + \"\\nWhich still yields A\")\n",
    "\n",
    "print(np.matmul(A,B) == A)\n",
    "\n",
    "print(\"\\nComponent by Component  Multiplication of A by B is = \\n\" + str(np.multiply(A,B)) + \"\")\n",
    "\n",
    "print(np.multiply(A,B) == A)"
   ]
  },
  {
   "cell_type": "markdown",
   "metadata": {},
   "source": [
    "### Exercise 6\n",
    "\n",
    "Count the number of values of $\\textbf{A}$ which are greater than 10 using logical operators."
   ]
  },
  {
   "cell_type": "code",
   "execution_count": 6,
   "metadata": {},
   "outputs": [
    {
     "name": "stdout",
     "output_type": "stream",
     "text": [
      "[16  3  2 13]\n",
      "[ 5 10 11  8]\n",
      "[ 9  6  7 12]\n",
      "[ 4 15 14  1]\n",
      "[16, 13, 11, 12, 15, 14]\n",
      "Matrix A has \u001b[1m6\u001b[0m numbers greater than 10\n",
      "6\n"
     ]
    }
   ],
   "source": [
    "counter = 0\n",
    "array = []\n",
    "for i in A:\n",
    "    print(i)\n",
    "    for j in i:\n",
    "        if j > 10:\n",
    "            array.append(j)\n",
    "            counter += 1\n",
    "print(array)\n",
    "print(\"Matrix A has \\033[1m\" + str(counter) + \"\\033[0m numbers greater than 10\")\n",
    "\n",
    "# We could also get it like this, without a for loop\n",
    "print(np.count_nonzero(A > 10))"
   ]
  },
  {
   "cell_type": "markdown",
   "metadata": {},
   "source": [
    "### Exercise 7\n",
    "\n",
    "The reciprocal of a number $x$ is  $1/x$. Use `for` loops to  create  a new matrix $\\textbf{B}$, where each element in $\\textbf{B}$ is the reciprocal of the corresponding element in $\\textbf{A}$, and sum the columns of $\\textbf{B}$. Now create the same matrix $\\textbf{B}$ and calculate its column sums in a single operation, using matrix commands, without a `for` loop."
   ]
  },
  {
   "cell_type": "code",
   "execution_count": 7,
   "metadata": {},
   "outputs": [
    {
     "name": "stdout",
     "output_type": "stream",
     "text": [
      "Reciprocal matrix of A is now the new matrix B = \n",
      "[[0.0625     0.33333333 0.5        0.07692308]\n",
      " [0.2        0.1        0.09090909 0.125     ]\n",
      " [0.11111111 0.16666667 0.14285714 0.08333333]\n",
      " [0.25       0.06666667 0.07142857 1.        ]]\n",
      "Sum of the columns of B = \n",
      "[0.62361111 0.66666667 0.80519481 1.28525641]\n",
      "\n",
      "Reciprocal matrix of A is, without a for loop used, the matrix B = \n",
      "[[0.0625     0.33333333 0.5        0.07692308]\n",
      " [0.2        0.1        0.09090909 0.125     ]\n",
      " [0.11111111 0.16666667 0.14285714 0.08333333]\n",
      " [0.25       0.06666667 0.07142857 1.        ]]\n",
      "Sum of the columns of B without a for loop used is = \n",
      "[0.62361111 0.66666667 0.80519481 1.28525641]\n"
     ]
    }
   ],
   "source": [
    "B = np.zeros([4, 4])\n",
    "\n",
    "current_row = 0\n",
    "for i in A:\n",
    "    current_col = 0\n",
    "    for j in i:\n",
    "        B[current_row, current_col] = 1/j\n",
    "        current_col += 1\n",
    "    current_row += 1\n",
    "\n",
    "print(\"Reciprocal matrix of A is now the new matrix B = \\n\" + str(B))\n",
    "\n",
    "print(\"Sum of the columns of B = \\n\" + str(np.sum(B, axis = 0)))\n",
    "\n",
    "print()\n",
    "\n",
    "B = np.zeros([4, 4])\n",
    "\n",
    "B = 1 / A\n",
    "\n",
    "print(\"Reciprocal matrix of A is, without a for loop used, the matrix B = \\n\" + str(B))\n",
    "\n",
    "print(\"Sum of the columns of B without a for loop used is = \\n\" + str(np.sum(B, axis = 0)))\n"
   ]
  },
  {
   "cell_type": "markdown",
   "metadata": {},
   "source": [
    "### Exercise 8\n",
    "\n",
    "Plot the log and square root of the integers from $1$ to $100$ in one single figure. Provide axis names, legend and title for the figure."
   ]
  },
  {
   "cell_type": "code",
   "execution_count": 8,
   "metadata": {},
   "outputs": [
    {
     "data": {
      "image/png": "[encoded data removed]",
      "text/plain": [
       "<Figure size 432x288 with 1 Axes>"
      ]
     },
     "metadata": {
      "needs_background": "light"
     },
     "output_type": "display_data"
    }
   ],
   "source": [
    "from matplotlib import pyplot as plt\n",
    "\n",
    "x = np.arange(1, 100)\n",
    "y_log = np.log(x)\n",
    "y_sqrt = np.sqrt(x)\n",
    "plt.title('Log and square root of the integers from 1 to 100')\n",
    "plt.xlabel('Numbers from 1 to 100')\n",
    "plt.ylabel('Result numbers')\n",
    "plt.plot(x, y_log, 'b', label = 'Log')\n",
    "plt.plot(x, y_sqrt, 'r', label = 'Square root')\n",
    "plt.legend()\n",
    "plt.show()\n"
   ]
  },
  {
   "cell_type": "markdown",
   "metadata": {},
   "source": [
    "### Exercise 9\n",
    "\n",
    "Let $\\boldsymbol{y} $ be an $N$-dimensional column vector with $y_i$ denoting its $i$-th element. \n",
    "Let $\\textbf{X}$ be an $N$ by $D$ matrix and $\\boldsymbol{x}_{i}$ be a column vector which is the transpose of the $i$-th row of $\\textbf{X}$.\n",
    "Let $\\boldsymbol{w}$ be a $D$-dimensional column vector. \n",
    "Choose a value for $N$ and a value for $D$ as you like, generate $\\boldsymbol{y}$, $\\textbf{X}$ and $\\boldsymbol{w}$ containing random elements.\n",
    "Use matrix operations and `for` loops to verify the following two quantities are equal. \n",
    "$$ \\boldsymbol{g}_1 = \\textbf{X}^T\\textbf{X} \\boldsymbol{w}-\\textbf{X}^T \\boldsymbol{y}$$\n",
    "$$ \\boldsymbol{g}_2 = \\sum_{i=1}^N \\left(\\boldsymbol{x}_{i}^T \\boldsymbol{w}- y_i\\right) \\boldsymbol{x}_{i}$$\n"
   ]
  },
  {
   "cell_type": "code",
   "execution_count": 9,
   "metadata": {
    "scrolled": true
   },
   "outputs": [
    {
     "name": "stdout",
     "output_type": "stream",
     "text": [
      "g1 is = \n",
      "[ 731751 1117071 1529148  922392]\n",
      "\n",
      "g2 is = \n",
      "[ 731751. 1117071. 1529148.  922392.]\n",
      "\n",
      "The two quantities verified are: \n",
      "[ True  True  True  True]\n"
     ]
    }
   ],
   "source": [
    "N = 4\n",
    "D = 4\n",
    "\n",
    "y = np.random.randint(100, size=[N,])\n",
    "X = np.random.randint(100, size=[N, D])\n",
    "w = np.random.randint(100, size=[D,])\n",
    "\n",
    "g1 = np.matmul(np.matmul(X.T, X), w) - np.matmul(X.T, y)\n",
    "\n",
    "g2 = np.zeros((D,))\n",
    "#, dtype=int\n",
    "for i in range (N):\n",
    "\n",
    "    g2 += (np.matmul(X[i].T , w) - y[i]) * X[i]\n",
    "\n",
    "\n",
    "#print(X[0].T)\n",
    "#print(X[0].reshape(1, N))\n",
    "\n",
    "print(\"g1 is = \\n\" + str(g1))\n",
    "print()\n",
    "print(\"g2 is = \\n\" + str(g2))\n",
    "\n",
    "# Both comparisons below\n",
    "print(\"\\nThe two quantities verified are: \")\n",
    "print(g1 == g2)\n"
   ]
  },
  {
   "cell_type": "markdown",
   "metadata": {},
   "source": [
    "### Exercise 10\n",
    "\n",
    "Calculate the derivative of function $f(x) = x^2+3x+1$ at 10 randomly chosen values of $x$. Write a user-defined function for calculating an approximated derivative of an input function based on \n",
    "\n",
    "$$\\frac{d f(x)}{d x}=\\frac{f(x+\\Delta x)-f(x)}{\\Delta x} ~ .$$\n",
    "\n",
    "Use this function to calculate the approximated derivative for $f(x) = x^2+3x+1$ at the same 10 chosen values of $x$ for $\\Delta x = 1$, $\\Delta x = 0.1$ and $\\Delta x = 0.001$. Plot your derivatives and the approximated derivatives in the same figure. Which $\\Delta x$ gives you a better approximation?"
   ]
  },
  {
   "cell_type": "code",
   "execution_count": 36,
   "metadata": {},
   "outputs": [
    {
     "name": "stdout",
     "output_type": "stream",
     "text": [
      "The values of x are = \n",
      "[0.70358503 0.95281894 0.98609712 0.73772516 0.74619838 0.92188997\n",
      " 0.66836562 0.97989594 0.4008238  0.93948777]\n",
      "\n",
      "The values for Δx=1 are = \n",
      "[5.40717006 5.90563787 5.97219424 5.47545033 5.49239676 5.84377994\n",
      " 5.33673123 5.95979188 4.8016476  5.87897555]\n",
      "The values for Δx=0.1 are = \n",
      "[4.50717006 5.00563787 5.07219424 4.57545033 4.59239676 4.94377994\n",
      " 4.43673123 5.05979188 3.9016476  4.97897555]\n",
      "The values for Δx=0.001 are = \n",
      "[4.40817006 4.90663787 4.97319424 4.47645033 4.49339676 4.84477994\n",
      " 4.33773123 4.96079188 3.8026476  4.87997555]\n"
     ]
    },
    {
     "data": {
      "image/png": "[encoded data removed]",
      "text/plain": [
       "<Figure size 432x288 with 1 Axes>"
      ]
     },
     "metadata": {
      "needs_background": "light"
     },
     "output_type": "display_data"
    }
   ],
   "source": [
    "def f(x):\n",
    "    return x**2 + 3*x + 1\n",
    "\n",
    "def derivative_f(f, x, Δx):\n",
    "    return (f(x + Δx) - f(x)) / Δx\n",
    "\n",
    "x = np.random.rand(10)\n",
    "print(\"The values of x are = \\n\" + str(x) + \"\\n\")\n",
    "\n",
    "d_val1 = derivative_f(f, x, 1)\n",
    "d_val2 = derivative_f(f, x, 0.1)\n",
    "d_val3 = derivative_f(f, x, 0.001)\n",
    "f_val = 2 * x + 3\n",
    "#f_val is the derivative of f(x)\n",
    "\n",
    "print(\"The values for Δx=1 are = \\n\" + str(d_val1))\n",
    "print(\"The values for Δx=0.1 are = \\n\" + str(d_val2))\n",
    "print(\"The values for Δx=0.001 are = \\n\" + str(d_val3))\n",
    "\n",
    "plt.title('Derivatives and The Approximated Derivatives ')\n",
    "plt.xlabel('X')\n",
    "plt.ylabel('f(x)')\n",
    "plt.plot(x, d_val1, 'r', label = 'Δx=1')\n",
    "plt.plot(x, d_val2, 'g', label = 'Δx=0.1')\n",
    "plt.plot(x, d_val3, 'black', label = 'Δx=0.001')\n",
    "plt.plot(x, f_val, 'b.', label = 'f(x)')\n",
    "plt.legend()\n",
    "plt.show()\n",
    "\n",
    "#Which Δ𝑥 gives you a better approximation? Answer: Δx=0.001"
   ]
  },
  {
   "cell_type": "markdown",
   "metadata": {},
   "source": [
    "### Exercise 11\n",
    "\n",
    "Given two $d$-dimensional data points $\\boldsymbol{x} = [x_1,x_2,\\dots,x_d]$ and $\\boldsymbol{y}=[y_1,y_2,\\dots,y_d]$. The Euclidean distance between these two points is computed as \n",
    "\n",
    "$$\n",
    "d(\\boldsymbol{x},\\boldsymbol{y}) = \\sqrt{\\sum_{i=1}^d (x_i-y_i)^2} = \\sqrt{\\boldsymbol{x}\\boldsymbol{x}^T - 2\\boldsymbol{x}\\boldsymbol{y}^T+\\boldsymbol{y}\\boldsymbol{y}^T}.\n",
    "$$\n",
    "\n",
    "Generate $5$ random $3$-dimensional points and store them in a $5\\times 3$ matrix called $\\textbf{A}$ ($5$ rows and $3$ columns). Generate another $8$ random $3$-dimensional points and store them in a $8\\times 3$ matrix called $\\textbf{B}$ ($8$ rows and $3$ columns). Calculate the Euclidean distance between the $5$ and $8$ points, and store these distances in a $5\\times 8$ matrix called $\\textbf{D}$ using `for` loops ($5$ rows and $8$ colums). "
   ]
  },
  {
   "cell_type": "code",
   "execution_count": 11,
   "metadata": {},
   "outputs": [
    {
     "name": "stdout",
     "output_type": "stream",
     "text": [
      "Matrix A is = \n",
      "[[69  8 79]\n",
      " [ 2 99 73]\n",
      " [55 55 43]\n",
      " [ 8 15 90]\n",
      " [66 60 12]]\n",
      "Matrix B is = \n",
      "[[75 60 99]\n",
      " [96 35 57]\n",
      " [23 97 76]\n",
      " [46 17 91]\n",
      " [82  8 20]\n",
      " [55 52 18]\n",
      " [36 57 65]\n",
      " [ 8 64 93]]\n",
      "\n",
      "The Euclidean distances between the 5 and 8 points are = \n",
      "[[ 56.0357029   44.06812907 100.22973611  27.45906044  60.41522987\n",
      "   76.5049018   60.71243695  83.98214096]\n",
      " [ 86.75252158 114.83901776  21.30727575  94.78396489 132.2497637\n",
      "   89.68277427  54.62600113  40.75536774]\n",
      " [ 59.67411499  47.71792116  62.2655603   61.87891402  58.8812364\n",
      "   25.17935662  29.13760457  69.20982589]\n",
      " [ 81.20960534  96.08850087  84.52810184  38.06573262 102.10288928\n",
      "   93.60555539  56.32938842  49.09175083]\n",
      " [ 87.46427842  59.58187644  85.52192701  92.141196    54.99090834\n",
      "   14.86606875  60.97540488  99.70456359]]\n"
     ]
    }
   ],
   "source": [
    "def euclidean_distance(x, y):\n",
    "    return np.sqrt(np.matmul(x, x.T) - 2 * np.matmul(x, y.T) + np.matmul(y, y.T))\n",
    "\n",
    "A = np.random.randint(0, 100, size=(5, 3))\n",
    "B = np.random.randint(0, 100, size=(8, 3))\n",
    "\n",
    "print(\"Matrix A is = \\n\" + str(A))\n",
    "print(\"Matrix B is = \\n\" + str(B))\n",
    "\n",
    "D = np.zeros([5, 8])\n",
    "for i in range(np.shape(A)[0]):\n",
    "    for j in range(np.shape(B)[0]):\n",
    "        D[i, j] = euclidean_distance(A[i], B[j])\n",
    "        \n",
    "print(\"\\nThe Euclidean distances between the 5 and 8 points are = \\n\" + str(D))\n"
   ]
  },
  {
   "cell_type": "markdown",
   "metadata": {},
   "source": [
    "### Exercise 12\n",
    "\n",
    "Repeat Exercise 11 using matrix operations only, without loops."
   ]
  },
  {
   "cell_type": "code",
   "execution_count": 49,
   "metadata": {},
   "outputs": [
    {
     "name": "stdout",
     "output_type": "stream",
     "text": [
      "a will be: \n",
      "[[11066]\n",
      " [15134]\n",
      " [ 7899]\n",
      " [ 8389]\n",
      " [ 8100]]\n",
      "ab will be: \n",
      "[[26952 22814 16734 20998 14604 11266 16150 16822]\n",
      " [26634 15636 30394 16836  4832 13144 20920 26282]\n",
      " [23364 19312 19736 14756 11620 13318 15820 15918]\n",
      " [20820 12846 16958 17626  5152  5680 13986 18788]\n",
      " [19476 18240 16500 10296 12264 13932 13152 10968]]\n",
      "b will be: \n",
      "[19026 13690 15714 10686  7188  6053  8770 12809]\n",
      "\n",
      "The Matrix, calculated without loops is = \n",
      "[[ 56.0357029   44.06812907 100.22973611  27.45906044  60.41522987\n",
      "   76.5049018   60.71243695  83.98214096]\n",
      " [ 86.75252158 114.83901776  21.30727575  94.78396489 132.2497637\n",
      "   89.68277427  54.62600113  40.75536774]\n",
      " [ 59.67411499  47.71792116  62.2655603   61.87891402  58.8812364\n",
      "   25.17935662  29.13760457  69.20982589]\n",
      " [ 81.20960534  96.08850087  84.52810184  38.06573262 102.10288928\n",
      "   93.60555539  56.32938842  49.09175083]\n",
      " [ 87.46427842  59.58187644  85.52192701  92.141196    54.99090834\n",
      "   14.86606875  60.97540488  99.70456359]]\n",
      "\n",
      "Compared to the one from the previous exercise it is = \n",
      "[[ True  True  True  True  True  True  True  True]\n",
      " [ True  True  True  True  True  True  True  True]\n",
      " [ True  True  True  True  True  True  True  True]\n",
      " [ True  True  True  True  True  True  True  True]\n",
      " [ True  True  True  True  True  True  True  True]]\n"
     ]
    }
   ],
   "source": [
    "a = np.sum(A ** 2, axis=1)\n",
    "a = a.reshape(5,1)\n",
    "ab = 2 * A @ B.T\n",
    "b = np.sum(B ** 2, axis=1)\n",
    "\n",
    "print(\"a will be: \\n\" + str(a))\n",
    "print(\"ab will be: \\n\" + str(ab))\n",
    "print(\"b will be: \\n\" + str(b))\n",
    "\n",
    "C = np.sqrt(a - ab + b)\n",
    "\n",
    "print(\"\\nThe Matrix, calculated without loops is = \\n\" + str(C))\n",
    "print()\n",
    "#if the randint is changed to rand,\n",
    "#the comparison will sometimes provide unaccurate numbers due to the float point and the float number calculations\n",
    "print(\"Compared to the one from the previous exercise it is = \\n\" + str(D == C))"
   ]
  },
  {
   "cell_type": "code",
   "execution_count": null,
   "metadata": {},
   "outputs": [],
   "source": []
  }
 ],
 "metadata": {
  "kernelspec": {
   "display_name": "Python 3",
   "language": "python",
   "name": "python3"
  },
  "language_info": {
   "codemirror_mode": {
    "name": "ipython",
    "version": 3
   },
   "file_extension": ".py",
   "mimetype": "text/x-python",
   "name": "python",
   "nbconvert_exporter": "python",
   "pygments_lexer": "ipython3",
   "version": "3.8.5"
  }
 },
 "nbformat": 4,
 "nbformat_minor": 2
}
